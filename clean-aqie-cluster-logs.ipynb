{
 "cells": [
  {
   "cell_type": "markdown",
   "metadata": {
    "application/vnd.databricks.v1+cell": {
     "cellMetadata": {},
     "inputWidgets": {},
     "nuid": "c555c6cd-cef6-4c8e-ac76-64d28f2389c7",
     "showTitle": false,
     "tableResultSettingsMap": {},
     "title": ""
    }
   },
   "source": [
    "# Clean AQIE Cluster logs\n",
    "**Author:** Joseph Grealy   \n",
    "**Date of last update:** 22/09/2025   "
   ]
  },
  {
   "cell_type": "markdown",
   "metadata": {
    "application/vnd.databricks.v1+cell": {
     "cellMetadata": {},
     "inputWidgets": {},
     "nuid": "cb45033f-94b7-42ce-b035-c2a1bc90d66d",
     "showTitle": false,
     "tableResultSettingsMap": {},
     "title": ""
    }
   },
   "source": [
    "## Overview\n",
    "\n",
    "We have logging enabled on the AQIE shared cluster. This is really useful, as it allows us to troubleshoot any failures. However, the logs for the cluster are saved to the DBFS and can quickly grow to a huge number of files. Therefore, it is necessary to regularly clean up the cluster log folders. To do this, we can use the shell code below. \n",
    "\n",
    "The cluster ID for the AQIE shared cluster is **0920-173430-gsso5zn0**.\n",
    "\n",
    "The cluster logs are saved in the dbfs here: **/dbfs/cluster-logs/0920-173430-gsso5zn0**. There are four directories in this folder:\n",
    "\n",
    "* driver\n",
    "* eventlog\n",
    "* executer\n",
    "* init_scripts\n",
    "\n",
    "The code below will check the logs in all four of these directories and delete any logs that were last modified **28 days ago or longer**. The execution of this notebook has been set-up as an automated job, which will run **every saturday at 12:00pm**. \n",
    "\n",
    "NOTE: This automation was setup on Joseph's workspace so may fail eventually, though it is relatively easy to restart. If needed the code chunk can be run manually below."
   ]
  },
  {
   "cell_type": "markdown",
   "metadata": {
    "application/vnd.databricks.v1+cell": {
     "cellMetadata": {},
     "inputWidgets": {},
     "nuid": "8c363477-c338-4d9e-a6cd-653b0d364f6b",
     "showTitle": false,
     "tableResultSettingsMap": {},
     "title": ""
    }
   },
   "source": [
    "## How to use\n",
    "\n",
    "This code is set to run every Saturday at 12:00pm, so you shouldn't need to run it manually. If you do need to run it manually, simply run the code chunk and it will execute. \n",
    "\n",
    "To duplicate the code for a different cluster, copy the code and update the LOG_DIR parameter to point at your cluster logs. "
   ]
  },
  {
   "cell_type": "markdown",
   "metadata": {
    "application/vnd.databricks.v1+cell": {
     "cellMetadata": {},
     "inputWidgets": {},
     "nuid": "5031a246-dafe-4656-9dc1-3a09ac12cbb8",
     "showTitle": false,
     "tableResultSettingsMap": {},
     "title": ""
    }
   },
   "source": [
    "## Code"
   ]
  },
  {
   "cell_type": "code",
   "execution_count": 0,
   "metadata": {
    "application/vnd.databricks.v1+cell": {
     "cellMetadata": {
      "byteLimit": 2048000,
      "rowLimit": 10000
     },
     "inputWidgets": {},
     "nuid": "49d41e87-2a3b-47cd-bbb4-bfa7d1c067aa",
     "showTitle": true,
     "tableResultSettingsMap": {},
     "title": "Clean up cluster log directories"
    }
   },
   "outputs": [],
   "source": [
    "%sh\n",
    "# Define the base log directory\n",
    "LOG_DIR=\"/dbfs/cluster-logs/0920-173430-gsso5zn0\"\n",
    "\n",
    "# Remove contents of each subdirectory that is 28 days or older\n",
    "find \"$LOG_DIR/driver\" -type f -mtime +28 -delete\n",
    "find \"$LOG_DIR/eventlog\" -type f -mtime +28 -delete\n",
    "find \"$LOG_DIR/executor\" -type f -mtime +28 -delete\n",
    "find \"$LOG_DIR/init_scripts\" -type f -mtime +28 -delete\n"
   ]
  }
 ],
 "metadata": {
  "application/vnd.databricks.v1+notebook": {
   "computePreferences": null,
   "dashboards": [],
   "environmentMetadata": {
    "base_environment": "",
    "environment_version": "3"
   },
   "inputWidgetPreferences": null,
   "language": "python",
   "notebookMetadata": {
    "mostRecentlyExecutedCommandWithImplicitDF": {
     "commandId": 5402822897064692,
     "dataframes": [
      "_sqldf"
     ]
    },
    "pythonIndentUnit": 4
   },
   "notebookName": "clean-aqie-cluster-logs",
   "widgets": {}
  },
  "language_info": {
   "name": "python"
  }
 },
 "nbformat": 4,
 "nbformat_minor": 0
}
